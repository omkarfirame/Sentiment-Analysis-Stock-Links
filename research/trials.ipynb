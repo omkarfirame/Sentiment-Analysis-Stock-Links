{
 "cells": [
  {
   "cell_type": "code",
   "execution_count": 1,
   "metadata": {},
   "outputs": [],
   "source": []
  },
  {
   "cell_type": "code",
   "execution_count": 2,
   "metadata": {},
   "outputs": [],
   "source": []
  },
  {
   "cell_type": "code",
   "execution_count": 38,
   "metadata": {},
   "outputs": [],
   "source": [
    "import pandas as pd\n",
    "import numpy as np\n",
    "from duckduckgo_search import DDGS\n",
    "import json\n",
    "import html2text\n",
    "from langchain.document_loaders import AsyncHtmlLoader\n",
    "from langchain.document_transformers import Html2TextTransformer\n",
    "import os\n",
    "\n",
    "def ddg_search(input_text,max_results=None):\n",
    "    \"\"\"\n",
    "    parameter: input_text is a keyword to search\n",
    "    The function fetch all the url related to given text and saves in json format\n",
    "    \"\"\"\n",
    "    file_path = \"ddgs.json\"\n",
    "    if os.path.exists(file_path):\n",
    "        # Delete the file\n",
    "        os.remove(file_path)\n",
    "        print(\"File deleted successfully.\")\n",
    "    else:\n",
    "        print(\"File does not exist.\")\n",
    "\n",
    "    with DDGS() as ddgs:\n",
    "        results = [r for r in ddgs.text(f\"{input_text}\", safesearch = \"off\",timelimit = \"d\",max_results = max_results)]\n",
    "    \n",
    "    # Write list of dictionaries to JSON file\n",
    "    with open(file_path, \"w\") as json_file:\n",
    "        json.dump(results, json_file)\n",
    "        print(\"file created successfully\")\n",
    "\n",
    "\n",
    "\n",
    "def do_webscraping(json_file):\n",
    "    \"\"\"\n",
    "    parameter: it takes json file\n",
    "    returns a list of dictionaries including page content, title, metadata and clean text of the urls\n",
    "    \"\"\"\n",
    "    with open(f\"{json_file}\", \"r\") as json_file:\n",
    "        data_list = json.load(json_file)\n",
    "\n",
    "    urls = [x['href'] for x in data_list]\n",
    "\n",
    "    structured_response = []\n",
    "    for url in urls:\n",
    "        try:\n",
    "            loader = AsyncHtmlLoader(url)\n",
    "            docs = loader.load()\n",
    "\n",
    "            html2text_transformer = Html2TextTransformer()\n",
    "            docs_transformed = html2text_transformer.transform_documents(docs)\n",
    "\n",
    "            if docs_transformed is not None and len(docs_transformed) > 0:\n",
    "                metadata = docs_transformed[0].metadata\n",
    "                title = metadata.get('title', '')\n",
    "\n",
    "                structured_response.append({\n",
    "                    'summary': docs_transformed[0].page_content,\n",
    "                    'title': title,\n",
    "                    'metadata': metadata,\n",
    "                    'clean_content': html2text.html2text(docs_transformed[0].page_content)\n",
    "                })\n",
    "        except Exception as e:\n",
    "            print(f\"An unexpected error occurred: {e}\")\n",
    "            continue\n",
    "    \n",
    "    return structured_response\n"
   ]
  },
  {
   "cell_type": "code",
   "execution_count": 39,
   "metadata": {},
   "outputs": [],
   "source": [
    "input_text = \"tata technology stocks\""
   ]
  },
  {
   "cell_type": "code",
   "execution_count": 40,
   "metadata": {},
   "outputs": [
    {
     "name": "stdout",
     "output_type": "stream",
     "text": [
      "File deleted successfully.\n",
      "file created successfully\n"
     ]
    }
   ],
   "source": [
    "ddg_search(input_text,max_results=5)"
   ]
  },
  {
   "cell_type": "code",
   "execution_count": 41,
   "metadata": {},
   "outputs": [
    {
     "name": "stderr",
     "output_type": "stream",
     "text": [
      "Fetching pages:   0%|          | 0/1 [00:00<?, ?it/s]"
     ]
    },
    {
     "name": "stderr",
     "output_type": "stream",
     "text": [
      "Fetching pages: 100%|##########| 1/1 [00:00<00:00,  1.45it/s]\n",
      "Fetching pages: 100%|##########| 1/1 [00:00<00:00,  2.65it/s]\n",
      "Fetching pages: 100%|##########| 1/1 [00:00<00:00,  1.74it/s]\n",
      "Fetching pages: 100%|##########| 1/1 [00:00<00:00,  3.22it/s]\n",
      "Fetching pages: 100%|##########| 1/1 [00:00<00:00,  4.78it/s]\n"
     ]
    }
   ],
   "source": [
    "\n",
    "response = do_webscraping(json_file=\"ddgs.json\")\n"
   ]
  },
  {
   "cell_type": "code",
   "execution_count": 56,
   "metadata": {},
   "outputs": [],
   "source": [
    "text = response[0]['clean_content']"
   ]
  },
  {
   "cell_type": "markdown",
   "metadata": {},
   "source": [
    "Create Embeddings"
   ]
  },
  {
   "cell_type": "code",
   "execution_count": 51,
   "metadata": {},
   "outputs": [],
   "source": [
    "from langchain.text_splitter import RecursiveCharacterTextSplitter\n",
    "import os\n",
    "import google.generativeai as genai\n",
    "from langchain_google_genai import GoogleGenerativeAIEmbeddings\n",
    "from langchain.vectorstores import FAISS\n",
    "from langchain_google_genai import ChatGoogleGenerativeAI\n",
    "from langchain.prompts import PromptTemplate\n",
    "from langchain.chains.question_answering import load_qa_chain\n"
   ]
  },
  {
   "cell_type": "code",
   "execution_count": 75,
   "metadata": {},
   "outputs": [],
   "source": [
    "from langchain_community.llms import CTransformers\n",
    "\n",
    "llm = CTransformers(model=\"C:\\\\Users\\\\omkar\\\\Downloads\\\\LLama2-Model\\\\llama-2-7b-chat.ggmlv3.q8_0.bin\",model_type='llama',\n",
    "                    config={'max_new_tokens':256,\n",
    "                    'temperature':0.01})"
   ]
  },
  {
   "cell_type": "code",
   "execution_count": 44,
   "metadata": {},
   "outputs": [],
   "source": [
    "os.getenv(\"GOOGLE_API_KEY\")\n",
    "genai.configure(api_key=os.getenv(\"GOOGLE_API_KEY\"))"
   ]
  },
  {
   "cell_type": "code",
   "execution_count": 77,
   "metadata": {},
   "outputs": [
    {
     "name": "stderr",
     "output_type": "stream",
     "text": [
      "c:\\Users\\omkar\\anaconda3\\envs\\sentenv\\lib\\site-packages\\langchain_core\\_api\\deprecation.py:117: LangChainDeprecationWarning: The function `__call__` was deprecated in LangChain 0.1.7 and will be removed in 0.2.0. Use invoke instead.\n",
      "  warn_deprecated(\n",
      "Number of tokens (7331) exceeded maximum context length (512).\n"
     ]
    }
   ],
   "source": [
    "texts = f\"Sentiment analysis: {text}\"\n",
    "sentiment = llm(texts)"
   ]
  },
  {
   "cell_type": "code",
   "execution_count": 76,
   "metadata": {},
   "outputs": [
    {
     "data": {
      "text/plain": [
       "'Benchmarks Nifty22,378.4039.66 FEATURED FUNDS ★★★★★ Canara Robeco ELSS Tax Saver Regular-IDCW 5Y Return 19.78 % Invest Now FEATURED FUNDS ★★★★★ Canara Robeco Small Cap Fund Regular - Growth 5Y Return 27.12 % Invest Now English EditionEnglish Editionहिन्दीગુજરાતીमराठीবাংলাಕನ್ನಡമലയാളംதமிழ்తెలుగు | Today\\'s ePaper Subscribe Sign In Steal Deal on ETPrime Home ETPrime Markets News Industry Rise Politics Wealth Mutual Funds Tech Careers Opinion NRI Panache ET TV Spotlight More Menu Stocks Stock Liveblog News Live Blog Earnings Podcast Market Classroom Dons of Dalal Street Recos Stock Reports PlusNew My Screener Candlestick Screener Stock Screener Stock Watch Market Calendar Stock Price Quotes Options IPOs/FPOs Expert Views Markets Data Investment Ideas Commodities ViewsNews OthersMentha OilPrecious MetalsGold MGoldSilverGold PetalSilver MicroSilver MGold Guinea Oil & EnergyNatural GasCrude OilCrude Oil MiniBase MetalsAluminiumZinc MiniLead MiniCopperZincNickelAluminium MiniLeadPlantationKapasCotton Candy Forex Forex News Currency Converter Cryptocurrency Crypto News Crypto TV Crypto Returns Calculator Crypto Prices Live Stream! Basics of crypto and blockchain More TechnicalsTechnical ChartVisualizeScreenerMind Over MoneyWeb StoriesMarket MogulsBondsStock GameChartMantra Technicals Trading GameWebinarsSitemapDefinitions Business News›Markets›Stocks›News›Big movers on D-Street: What should investors do with JSW Steel, Tata Investment and Tata Chemicals? * Tata Investment Corporation Share Price * Bombay Burmah Trading Corporation Share Price * Maharashtra Scooters Share Price * JSW Holdings Share Price * Sundaram Finance Holdings Share Price ##### The Economic Times daily newspaper is available online now. Read Today\\'s Paper ### # Big movers on D-Street: What should investors do with JSW Steel, Tata Investment and Tata Chemicals? SECTIONS Big movers on D-Street: What should investors do with JSW Steel, Tata Investment and Tata Chemicals? By Akash Podishetti , ETMarkets.comLast Updated: Mar 02, 2024, 09:33:00 AM IST Rate Story Follow us Share Font Size AbcSmall AbcMedium AbcLarge Save Print Comment Synopsis ## Benchmark indices hit record highs fueled by economic growth. JSW Steel, Tata Investment, and Tata Chemicals performed well. Tata Investment has broken out of a Flag formation, while Tata Chemicals has shown a recovery. MACD and RSI indicators support Tata Investment\\'s structure. Getty Images Benchmark indices hit record highs on Friday, logging third straight weekly gains, as faster-than-expected economic growth boosted demand amid signals the rally will sustain. Stocks that were in focus include names like JSW Steel, which rose 4.31%, Tata Investment, which jumped 5%, and Tata Chemicals, whose shares increased 3.07% on Friday. _Here\\'s what Pravesh Gour, Senior Technical Analyst at Swastika Investmart, recommends investors should do with these stocks when the market resumes trading today. _ ## JSW Steel The structure of the counter looks lucrative as it is taking support from 200-DMA and also has a strong demand zone of around Rs 790. The counter is witnessing a breakout of a long consolidation formation on the daily chart with strong volume. On the upside, Rs 880 is an immediate resistance zone; above this, we can expect a Rs 920+ level in the next term. On the downside, Rs 790 is the important support level for any correction. ## Tata Investment The counter has witnessed a breakout of a Flag formation with huge volume. The structure of the counter is classical, as it is trading above all its important moving averages. The overall structure of the counter is lucrative, as it is trading above its important moving averages. MACD (moving average convergence divergence) supports the current strength, whereas the momentum indicator RSI (relative strength index) is also positively poised. On the higher side, Rs 8,000 is acting as an important psychological level; above this, we can expect the level of Rs 8,700+ in the near-short term, while on the lower side, Rs 6,700 will act as a major support during any correction. ## Tata Chemicals The counter is in a downward trend, but in the last trading sessions, it has given an astute recovery from the 940-950 level with strong volume, which was multi-month support for the counter. The overall structure is distorted as it is trading below all its important moving averages, but it has a demand zone near 940-950. On the upside, Rs 1000 is an immediate susceptible area; above this, we can expect a run-up towards Rs 1,020 in the near term, while Rs 940 is an immediate support level. (Disclaimer: Recommendations, suggestions, views and opinions given by the experts are their own. These do not represent the views of Economic Times) _(You can now subscribe to ourETMarkets WhatsApp channel) _ #### Read More News on tata investmenttata chemicalsjsw steeltrading guidestock ideajsw steel sharestata investmenttata chemicals (What\\'s moving Sensex and Nifty Track latest market news, stock tips and expert advice, on ETMarkets. Also, ETMarkets.com is now on Telegram. For fastest news alerts on financial markets, investment strategies and stocks alerts, subscribe to our Telegram feeds .) Download The Economic Times News App to get Daily Market Updates & Live Business News. Subscribe to The Economic Times Prime and read the Economic Times ePaper Online.and Sensex Today. Top Trending Stocks: SBI Share Price, Axis Bank Share Price, HDFC Bank Share Price, Infosys Share Price, Wipro Share Price, NTPC Share Price ...moreless _(You can now subscribe to ourETMarkets WhatsApp channel) _ #### Read More News on tata investmenttata chemicalsjsw steeltrading guidestock ideajsw steel sharestata investmenttata chemicals (What\\'s moving Sensex and Nifty Track latest market news, stock tips and expert advice, on ETMarkets. Also, ETMarkets.com is now on Telegram. For fastest news alerts on financial markets, investment strategies and stocks alerts, subscribe to our Telegram feeds .) Download The Economic Times News App to get Daily Market Updates & Live Business News. Subscribe to The Economic Times Prime and read the Economic Times ePaper Online.and Sensex Today. Top Trending Stocks: SBI Share Price, Axis Bank Share Price, HDFC Bank Share Price, Infosys Share Price, Wipro Share Price, NTPC Share Price ...moreless Pick the best stocks for yourself Powered by * Weekly Top Picks: Eight stocks with consistent score improvement and upside potential of up to 40% 9 mins read * 4 stocks with 5 % to 8.87% dividend yields and continuous dividend payments for 7 years 7 mins read * Weekly Top Picks: Seven large & mid caps with consistent score improvement and upside potential of up to 42% 9 mins read * What do Q2 LIC results indicate for other Insurance companies? Two Life and 3 non-life Insurance players with \"buy\" and \"strong buy\" ratings 3 mins read * Large cap stocks with upside potential of more than 25% 4 mins read * 5 stocks for a high dividend yielding portfolio 8 mins read * Eight midcap stocks, 2 with\" Strong Buy\" and 6 with \"Buy\" recommendations with potential upside of up to 35% 7 mins read * Six high ROE and low PEG ratio stocks, right combination for wealth creation 8 mins read * View More Stories Subscribe to ETPrime ## Most Searched Stocks Tata Steel. Share Price| 155.25 \\\\---|--- 12:49 PM | 02 Mar 2024| 5.31(3.54%) Hero MotoCorp. Share Price| 4581.45 12:49 PM | 02 Mar 2024| 74.35(1.65%) Adani Ports & Special Economic Zone. Share Price| 1338.30 12:49 PM | 02 Mar 2024| 16.21(1.23%) Tata Motors. Share Price| 988.35 12:49 PM | 02 Mar 2024| 10.96(1.13%) JSW Steel. Share Price| 844.95 12:49 PM | 02 Mar 2024| 8.75(1.05%) Apollo Hospitals Enterprise. Share Price| 6133.30 12:49 PM | 02 Mar 2024| 47.91(0.79%) Cipla. Share Price| 1482.30 12:44 PM | 02 Mar 2024| 11.40(0.78%) Divi\\'s Laboratories. Share Price| 3508.50 12:47 PM | 02 Mar 2024| 26.10(0.75%) Dr. Reddy\\'s Laboratories. Share Price| 6238.90 12:47 PM | 02 Mar 2024| 45.35(0.74%) Hindalco Industries. Share Price| 522.85 12:49 PM | 02 Mar 2024| 3.75(0.73%) Wipro. Share Price| 522.85 12:49 PM | 02 Mar 2024| 3.75(0.73%) Asian Paints. Share Price| 2849.80 12:49 PM | 02 Mar 2024| 18.06(0.64%) ITC. Share Price| 412.05 12:49 PM | 02 Mar 2024| 2.56(0.63%) Larsen & Toubro. Share Price| 3655.25 12:49 PM | 02 Mar 2024| 21.75(0.60%) State Bank of India Share Price| 773.30 12:49 PM | 02 Mar 2024| 4.15(0.54%) Tata Consumer Products. Share Price| 1207.25 12:49 PM | 02 Mar 2024| 6.25(0.53%) Oil And Natural Gas Corporation. Share Price| 271.90 12:49 PM | 02 Mar 2024| 1.35(0.50%) Coal India. Share Price| 448.50 12:49 PM | 02 Mar 2024| 2.15(0.49%) Adani Enterprises. Share Price| 3333.25 12:49 PM | 02 Mar 2024| 14.50(0.44%) Eicher Motors. Share Price| 3860.35 12:47 PM | 02 Mar 2024| 16.80(0.44%) LTIMindtree. Share Price| 5294.90 12:47 PM | 02 Mar 2024| 21.35(0.41%) HDFC Life Insurance Company. Share Price| 592.30 12:49 PM | 02 Mar 2024| 2.35(0.40%) Tata Consultancy Services. Share Price| 4107.10 12:48 PM | 02 Mar 2024| 12.76(0.32%) UPL. Share Price| 476.05 12:49 PM | 02 Mar 2024| 1.50(0.32%) Bharat Petroleum Corporation. Share Price| 625.20 12:49 PM | 02 Mar 2024| 1.91(0.31%) SBI Life Insurance Company. Share Price| 1546.80 12:47 PM | 02 Mar 2024| 4.65(0.31%) Hindustan Unilever. Share Price| 2416.20 12:49 PM | 02 Mar 2024| 6.50(0.27%) Bharti Airtel. Share Price| 1131.10 12:48 PM | 02 Mar 2024| 2.40(0.22%) Bajaj Finance. Share Price| 6584.35 12:49 PM | 02 Mar 2024| 12.91(0.20%) HCL Technologies. Share Price| 1646.30 12:47 PM | 02 Mar 2024| 2.21(0.14%) Infosys. Share Price| 1656.30 12:49 PM | 02 Mar 2024| 1.60(0.10%) Tech Mahindra. Share Price| 1272.50 12:48 PM | 02 Mar 2024| 0.71(0.06%) Bajaj Auto. Share Price| 8041.30 12:49 PM | 02 Mar 2024| 1.25(0.02%) HDFC Bank. Share Price| 1430.75 12:49 PM | 02 Mar 2024| 0.00(0.00%) IndusInd Bank. Share Price| 1526.00 12:49 PM | 02 Mar 2024| -0.66(-0.05%) Titan Company. Share Price| 3764.10 12:49 PM | 02 Mar 2024| -1.81(-0.05%) Reliance Industries. Share Price| 2982.15 12:49 PM | 02 Mar 2024| -2.10(-0.08%) Britannia Industries. Share Price| 4922.55 12:49 PM | 02 Mar 2024| -5.15(-0.11%) ICICI Bank. Share Price| 1084.65 12:49 PM | 02 Mar 2024| -2.25(-0.21%) Bajaj Finserv. Share Price| 1610.15 12:48 PM | 02 Mar 2024| -3.25(-0.21%) Kotak Mahindra Bank. Share Price| 1723.70 12:49 PM | 02 Mar 2024| -4.00(-0.24%) Axis Bank. Share Price| 1096.70 12:49 PM | 02 Mar 2024| -2.55(-0.24%) Nestle India. Share Price| 2594.90 12:49 PM | 02 Mar 2024| -6.55(-0.26%) UltraTech Cement. Share Price| 10106.35 12:45 PM | 02 Mar 2024| -29.15(-0.29%) Power Grid Corporation of India. Share Price| 286.85 12:49 PM | 02 Mar 2024| -0.85(-0.30%) Grasim Industries. Share Price| 2245.75 12:46 PM | 02 Mar 2024| -9.16(-0.41%) Maruti Suzuki India. Share Price| 11567.20 12:48 PM | 02 Mar 2024| -53.75(-0.47%) NTPC. Share Price| 341.75 12:50 PM | 02 Mar 2024| -1.75(-0.51%) Sun Pharmaceutical Industries. Share Price| 1550.55 12:49 PM | 02 Mar 2024| -8.71(-0.56%) Mahindra & Mahindra. Share Price| 1960.10 12:48 PM | 02 Mar 2024| -12.86(-0.66%) Load more.. Trending in Markets * Sensex TodayGold Price TodaySuven Pharmaceuticals Share PriceMidcap Mutual Fund * Mutual Fund IdeasAdani Energy bond issueCG Power Share PriceTata Investment Corporation Share Price * Indus Tower StocksSmallcap Mutual FundsF&O; stock strategyHot Stocks * Purv Flexipack IPO allotmentSmallcap StocksBharti AirtelSadhav Shipping Share Price * Paytm Share PriceJPMorganOil priceNikkei * Big moversBitcoin ETFGopal Snacks IPOF&O; stocks to buy today * Shriram Finance Share PriceReliance Share PriceDebt Mutual FundBitcoin Price * Paytm Share PriceGIFT Nifty ##### Latest from ET * Nilesh Shah says India can\\'t be judged by Moody, Poor standards * One by one, BJP MPs are dropping out of 2024 polls * Record highs for D-St on glitch-free special session BrowseCompanies: ABCDEFGHIJKLMNOPQRSTUVWXYZ 123456789 Trending Now MORE Sensex TodayRBI MPC Meet LiveBudget 2024 Real EstateRailways Budget 2024Interim Budget 2024Budget 2024 New Tax RegimeIncome Tax in Budget 2024Axis Bank Q3 ResultsEpack Durables IPOQ3 results todayLTIMindtree Q3 ResultsHCL Tech Q3 ResultsWipro Q3 ResultsInfosys Q3 EarningsTCS Q3 EarningsCentury Textiles sharesF&O; stock Hot on Web MORE Gautam GambhirRameshwaram Cafe BlastSensex TodayAnant Ambani Radhika Merchant Pre-WeddingHimachal Political Crisis Live NewsIndia Q3 GDP LiveGaganyaan MissionRajya Sabha Election LivePankaj Udhas DeathGyanvapi Mosque CaseFarmers protest LIVE NewsSudarshan Setu inaugurationRCB vs UPW Live ScoreMI vs DC Live ScoreIPL 2024 ScheduleMaratha Reservation BillSwami Prasad Maurya In Case you missed it MORE Sensex TodayRBI MPC Meet LiveQ3 results todayInox India IPOIndia Shelter Finance IPOAzad Engineering IPORBZ Jewellers IPOF&O; StocksDOMS Industries IPO GMPBOB Basel III compliant bondsPNB Bank Market CapInox India IPODOMS Industries GMPIndia Q2 GDP LIVEAdani Green Q2 ResultsMaruti Suzuki Q2 ResultsCipla Q2 Results Top Calculators MORE Standard Deviation CalculatorIncome Tax CalculatorAge CalculatorTime CalculatorBMI CalculatorGPA CalculatorStatistics CalculatorFraction CalculatorDiabetes Risk CalculatorDate CalculatorLog Calculator MORE Top Searched Companies Maruti Suzuki Share PriceAshok Leyland Share PriceBharti Airtel Share PriceSouth Indian Bnk Share PriceMRF Share PriceKPIT Tech Share PricePower Grid Share PriceSRF Share PriceCESC Share PriceIbull Housing Fin Share Price MORE Top Definitions QuarterStock MarketDerivativesFreelancerPut Call Ratio MORE Top Prime Articles Why A Minority Investor Wants To Stall The Long Pending Indiabulls Real Estate Embassy Group MergerDragons Prying Eye In The Sky Why Balloon Gate Should Be On Top Of Indias List Of WorriesThe Worlds Most Important Box In 3 StoriesMacquaries Double Upgrade Has Sparked Some Interest In Paytm Stock Should You BuyIn 4 Stories Cognizants Tumultuous JourneyHow Banks Ceded The Upi Space And Control To Phonepe And Google PayFuture Locked In A Crypt Understanding The Crackdown On Crypto Amid A Hope For A Global FrameworkSilent Epidemic The Health Catastrophe India Is Not Talking About And Why That Should Change5 Weekend Must Reads Featuring India Taking On The Us In Automobile ReliabilityAmazons Aim To Rule Air Cargo Just Got Wings In India Why This Is Only The Start Of A Long Haul MORE Most Searched IFSC Codes Bank Of Baroda Uttar PradeshIndia Post Payment Bank Post Office Savings Bank All India Single Ifsc Delhi Delhi IPOS0000DOPBank Of IndiaAxis BankCanara Bank MORE Top Slideshow Packaged Fruit JuiceRajratan Global WirePeaking OutGujarat Ambuja ExportsBudget 2023 Tweaked The New Income Tax SlabsPeaking OutPackaged Fruit JuiceBudget 2023 Tweaked The New Income Tax SlabsRajratan Global WireGujarat Ambuja Exports MORE Top Videos Sensex Surges Over 200 Points Nifty50 Above 10350Now Reach Delhi To Jaipur Within 2 3 Hours Courtesy Delhi Mumbai ExpresswayAir India Boeing Deal Us President Biden Speaks With Pm Modi After Landmark Agreement Of 220 AircraftWhy Boycott Germany Is Trending Here Is All You Need To KnowFall In Adani Group Stocks DecodedKhalistani Separatist Amritpal Singh Gives Ultimatum To Punjab Govt Cancel Fir In An Hour Or ElseExplained Us New Move On H1b And L1 VisasChatgpt Vs Google Bard How Do These Two Ai Chatbots Stack Up Against Each OtherRussia Ukraine War Ukrainian Soldiers Call For More Western WeaponsNew Zealand Earthquake Of Magnitude 6 1 Hits Northwest Of Wellington Amidst Cyclone Gabrielle MORE Top Story Listing Smallcap StocksSensex CrashUanParliamentSukanya Samriddhi Yojana MORE Private Companies Zoho Corporation Private LimitedLeaps Bounds Private LimitedModicare LimitedAdp Associates Private Limited Follow us on: ## Download ET App: subscribe to our newsletter Copyright (C) 2024 Bennett, Coleman & Co. Ltd. All rights reserved. For reprint rights: Times Syndication Service Find this comment offensive? Choose your reason below and click on the Report button. This will alert our moderators to take action **Name** Reason for reporting: Foul languageSlanderousInciting hatred against a certain communityOthers Your Reason has been Reported to the admin. X #### To post this comment you must Log In/Connect with: The Economic Times **or** ### Fill in your details: Will be displayed Will not be displayed Will be displayed ### Share this Comment: Post to Twitter ##### Continue reading with one of these options: Limited Access Free Login to get access to some exclusive stories & personalised newsletters Login Now Unlimited Access Starting @ Rs120/month Get access to exclusive stories, expert opinions & in-depth stock reports Subscribe Now ET #### Uh-oh! This is an exclusive story available for selected readers only. Worry not. You\\'re just a step away. Sign In to Read for Free ### Prime Account Detected! It seems like you\\'re already an ETPrime member with **** Login using your ET Prime credentials to enjoy all member benefits Log out of your current logged-in account ****and log in again using your ET Prime credentials to enjoy all member benefits. Sign in & Access ET Prime To read full story, subscribe to ET Prime Get Unlimited Access to The Economic Times ₹34 per week Billed annually at ~~₹2499~~ ₹1749 Continue Already a Member? Sign In now Super Saver Sale - Flat 30% Off On ET Prime Membership Claim Offer » Already a Member? Sign In now ### ### Sign in to read the full article ### You\\'ve got this Prime Story as a Free Gift Rs 49 for 1st month Then Rs. 1,749 per year SUBSCRIBE NOW Valid only with UPI, Credit & Debit Cards Autopay Choose Payment Mode & Plan \\\\- \\\\- \\\\- Subscribe Now (Credit card mandatory) You can cancel your subscription anytime \\\\- \\\\- \\\\- Subscribe Now (Pay Using Netbanking/UPI/Debit Card) Netbanking, Credit & Debit Card Subscribe with Google ₹399/month Monthly PLAN Billed Amount ₹399 No Trial Period ~~₹399~~ ₹208/month (Save 49%) Yearly PLAN Billed Amount ₹2,499 15 Days Trial +Includes DocuBay and TimesPrime Membership. ~~₹399~~ ₹150/month (Save 63%) 2-Year PLAN Billed Amount ₹3,599 15 Days Trial +Includes DocuBay and TimesPrime Membership. Quarterly $13.99 7 Days Trial Yearly (Save 40.0%) $33.99 15 Days Trial Subscribe NowSubscribe with Get ET Prime for just ~~₹2499~~**₹1749/yr** Continue Offer Exclusively For You Save up to Rs. 700/- ON ET PRIME MEMBERSHIP Avail Offer Offer Exclusively For You Get 1 Year Free With 1 and 2-Year ET prime membership Avail Offer Offer Exclusively For You Get 1 Year Free With 1 and 2-Year ET prime membership Avail Offer Offer Exclusively For You Get Flat 40% Off Then ₹ 1749 for 1 year Avail Offer Offer Exclusively For You ET Prime at ₹ 49 for 1 month Then ₹ 1749 for 1 year Avail Offer Steal Deal on ETPrime Get Flat 20% Off Avail Offer Avail Offer Exclusive Student Only Offer ### To Read the full Story, Subscribe to ET Prime ### Sign in to read the full article ### You\\'ve got this Prime Story as a Free Gift Access the exclusive Economic Times stories, Editorial and Expert opinion Subscribe Now ### ### Unlock this story and enjoy all members-only benefits. * 8 insight-rich stories published daily * 4000+ in-depth Stock Reports * Print Edition, the digital Newspaper * 2 Stock Researches everyday Subscribe Now Offer Exclusively For You Save up to Rs. 700/- ON ET PRIME MEMBERSHIP Avail Offer Offer Exclusively For You Get 1 Year Free With 1 and 2-Year ET prime membership Avail Offer Offer Exclusively For You Get 1 Year Free With 1 and 2-Year ET prime membership Avail Offer Offer Exclusively For You Get Flat 40% Off Then ₹ 1749 for 1 year Avail Offer Offer Exclusively For You ET Prime at ₹ 49 for 1 month Then ₹ 1749 for 1 year Avail Offer Steal Deal on ETPrime Get Flat 20% Off Avail Offer Avail Offer Exclusive Student Only Offer 90 Days Prime access worth Rs999 unlocked for you Claim Now Already a Member? Sign In now ### Why ? * **********Exclusive Economic Times Stories, Editorials & Expert opinion** across 20+ sectors * ******Stock analysis. Market Research. Industry Trends** on 4000+ Stocks******** * Clean experience with **Minimal Ads** * **Comment & Engage** with ET Prime community * Exclusive invites to **Virtual Events with Industry Leaders** * A trusted team of **Journalists & Analysts **who can best filter signal from noise * \\u200bGet **1 Year Complimentary Subscription of TOI+** worth Rs.799/-\\u200b Stories you might be interested in Subscribe to ourET Investment Opportunities SUBMIT \\n\\n'"
      ]
     },
     "execution_count": 76,
     "metadata": {},
     "output_type": "execute_result"
    }
   ],
   "source": [
    "text"
   ]
  },
  {
   "cell_type": "code",
   "execution_count": null,
   "metadata": {},
   "outputs": [],
   "source": []
  }
 ],
 "metadata": {
  "kernelspec": {
   "display_name": "sentenv",
   "language": "python",
   "name": "python3"
  },
  "language_info": {
   "codemirror_mode": {
    "name": "ipython",
    "version": 3
   },
   "file_extension": ".py",
   "mimetype": "text/x-python",
   "name": "python",
   "nbconvert_exporter": "python",
   "pygments_lexer": "ipython3",
   "version": "3.9.0"
  }
 },
 "nbformat": 4,
 "nbformat_minor": 2
}
