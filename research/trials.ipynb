{
 "cells": [
  {
   "cell_type": "code",
   "execution_count": 1,
   "metadata": {},
   "outputs": [],
   "source": [
    "import pandas as pd\n",
    "import numpy as np\n",
    "from duckduckgo_search import DDGS\n",
    "import json\n",
    "import html2text\n",
    "from langchain.document_loaders import AsyncHtmlLoader\n",
    "from langchain.document_transformers import Html2TextTransformer\n",
    "import os\n",
    "\n",
    "def ddg_search(input_text,max_results=None):\n",
    "    \"\"\"\n",
    "    parameter: input_text is a keyword to search\n",
    "    The function fetch all the url related to given text and saves in json format\n",
    "    \"\"\"\n",
    "    file_path = \"ddgs.json\"\n",
    "    if os.path.exists(file_path):\n",
    "        # Delete the file\n",
    "        os.remove(file_path)\n",
    "        print(\"File deleted successfully.\")\n",
    "    else:\n",
    "        print(\"File does not exist.\")\n",
    "\n",
    "    with DDGS() as ddgs:\n",
    "        results = [r for r in ddgs.text(f\"{input_text}\", safesearch = \"off\",timelimit = \"d\",max_results = max_results)]\n",
    "    \n",
    "    # Write list of dictionaries to JSON file\n",
    "    with open(file_path, \"w\") as json_file:\n",
    "        json.dump(results, json_file)\n",
    "        print(\"file created successfully\")\n",
    "\n",
    "\n",
    "\n",
    "def do_webscraping(json_file):\n",
    "    \"\"\"\n",
    "    parameter: it takes json file\n",
    "    returns a list of dictionaries including page content, title, metadata and clean text of the urls\n",
    "    \"\"\"\n",
    "    with open(f\"{json_file}\", \"r\") as json_file:\n",
    "        data_list = json.load(json_file)\n",
    "\n",
    "    urls = [x['href'] for x in data_list]\n",
    "\n",
    "    structured_response = []\n",
    "    for url in urls:\n",
    "        try:\n",
    "            loader = AsyncHtmlLoader(url)\n",
    "            docs = loader.load()\n",
    "\n",
    "            html2text_transformer = Html2TextTransformer()\n",
    "            docs_transformed = html2text_transformer.transform_documents(docs)\n",
    "\n",
    "            if docs_transformed is not None and len(docs_transformed) > 0:\n",
    "                metadata = docs_transformed[0].metadata\n",
    "                title = metadata.get('title', '')\n",
    "\n",
    "                structured_response.append({\n",
    "                    'summary': docs_transformed[0].page_content,\n",
    "                    'title': title,\n",
    "                    'metadata': metadata,\n",
    "                    'url':url\n",
    "                })\n",
    "        except Exception as e:\n",
    "            print(f\"An unexpected error occurred: {e}\")\n",
    "            continue\n",
    "    \n",
    "    return structured_response\n"
   ]
  },
  {
   "cell_type": "code",
   "execution_count": null,
   "metadata": {},
   "outputs": [],
   "source": []
  },
  {
   "cell_type": "code",
   "execution_count": null,
   "metadata": {},
   "outputs": [],
   "source": []
  },
  {
   "cell_type": "code",
   "execution_count": 2,
   "metadata": {},
   "outputs": [
    {
     "name": "stdout",
     "output_type": "stream",
     "text": [
      "File deleted successfully.\n",
      "file created successfully\n"
     ]
    },
    {
     "name": "stderr",
     "output_type": "stream",
     "text": [
      "Fetching pages: 100%|##########| 1/1 [00:00<00:00,  2.88it/s]\n",
      "Fetching pages: 100%|##########| 1/1 [00:00<00:00,  6.38it/s]\n",
      "Fetching pages: 100%|##########| 1/1 [00:00<00:00,  2.15it/s]\n",
      "Fetching pages: 100%|##########| 1/1 [00:00<00:00,  5.94it/s]\n",
      "Fetching pages: 100%|##########| 1/1 [00:01<00:00,  1.59s/it]\n"
     ]
    }
   ],
   "source": [
    "input_text = \"MRF stocks\"\n",
    "ddg_search(input_text,max_results=5)\n",
    "response = do_webscraping(json_file=\"ddgs.json\")\n"
   ]
  },
  {
   "cell_type": "code",
   "execution_count": null,
   "metadata": {},
   "outputs": [],
   "source": []
  },
  {
   "cell_type": "markdown",
   "metadata": {},
   "source": [
    "Create chat model"
   ]
  },
  {
   "cell_type": "code",
   "execution_count": 5,
   "metadata": {},
   "outputs": [
    {
     "name": "stderr",
     "output_type": "stream",
     "text": [
      "c:\\Users\\Omkar\\Anaconda3\\envs\\sentenv\\lib\\site-packages\\tqdm\\auto.py:21: TqdmWarning: IProgress not found. Please update jupyter and ipywidgets. See https://ipywidgets.readthedocs.io/en/stable/user_install.html\n",
      "  from .autonotebook import tqdm as notebook_tqdm\n"
     ]
    }
   ],
   "source": [
    "from langchain_google_genai import ChatGoogleGenerativeAI\n",
    "from langchain.prompts import PromptTemplate\n",
    "from langchain.schema import StrOutputParser\n",
    "from langchain.schema.prompt_template import format_document\n",
    "from langchain_core.runnables import RunnablePassthrough\n",
    "from langchain.document_loaders import WebBaseLoader\n"
   ]
  },
  {
   "cell_type": "code",
   "execution_count": 6,
   "metadata": {},
   "outputs": [
    {
     "data": {
      "text/plain": [
       "{'summary': 'English  \\n  \\n  * Hindi\\n  * Gujarati\\n\\nSpecials\\n\\nSearch Quotes, News, Mutual Fund NAVs\\n\\n  * Moneycontrol Trending Stock\\n\\n  * Infosys INE009A01021, INFY, 500209\\n  * State Bank of India INE062A01020, SBIN, 500112\\n  * Yes Bank INE528G01027, YESBANK, 532648\\n  * Bank Nifty \\n  * Nifty 500  \\n\\n  * Quotes\\n  * Mutual Funds\\n  * Commodities\\n  * Futures & Options\\n  * Currency\\n  * News\\n  * Cryptocurrency\\n  * Forum\\n  * Notices\\n  * Videos\\n  * Glossary\\n  * All\\n\\n  * Hello, Login\\n\\nHello, Login\\n\\nLog-inor Sign-Up\\n\\nMy Account\\n\\n    * My Profile\\n    * My Portfolio\\n    * My Watchlist\\n    * Credit Score₹100 Cash Reward\\n    * My Feed\\n    * My Messages\\n    * Price Alerts\\n    * My Profile\\n    * My PRO\\n    * My Portfolio\\n    * My Watchlist\\n    * Credit Score₹100 Cash Reward\\n    * My Feed\\n    * My Messages\\n    * Price Alerts\\n    * Logout\\n    * Chat with Us\\n    * Download App\\n    * Follow us on:\\n\\nPremium\\n\\nMy Feed\\n\\n->->MC_ENG_DESKTOP/MC_ENG_NEWS/MC_ENG_MARKETS_AS/MC_ENG_ROS_NWS_MKTS_AS_ATF_728\\n\\nGo PRO @₹99 PRO\\n\\nAdvertisement\\n\\nRemove Ad\\n\\n  *   * Budget 2 24\\n\\n_The_ Election BudgetINDIA 2024\\n\\n    * Homepage\\n    * Play The FM\\n    * Tax Calculator\\n    * Budget Market Trends\\n    * Top Gainers & Top Losers\\n    * Budget & Market Impact \\n    * Top Budget Stories\\n    * Modi\\'s Budget @10\\n    * State Of The Economy\\n    * Personal Finance\\n    * 2024 Budget Analysis Tools\\n    *       * INCOME TAX CALCULATOR \\n      * PROVIDENT FUND CALCULATOR \\n      * SIP CALCULATOR \\n      * ASSET ALLOCATION PLANNING \\n    * Budget In Charts\\n    * Team India Budget\\n    * India Inc CEO Survey \\n    * Expert Opinion\\n    * Pitch Report\\n    *       * BANKING \\n      * PERSONAL WEALTH\\n      * INSURANCE\\n      * MARKETS\\n      * Consumer Durables\\n      * Green Energy\\n      * REAL ESTATE\\n      * INFRA\\n      * AUTO \\n    * CEOs\\' Views\\n    * Budget 2024 Videos\\n    *       * SECTORAL REPORT \\n      * MC MANIFESTO \\n\\n      * BUDGET WISHLIST \\n      * BUDGET SIMPLIFIED\\n    * Moneycontrol Manifesto \\n    * Macros & Markets \\n    * Photo Articles \\n    * History Of Budget\\n    * Budget FAQs\\n\\n  * Markets\\n\\n    *       * HOME\\n      * INDIAN INDICES\\n      * STOCK ACTION\\n      * All Stats\\n      * Top Gainers\\n      * Top Losers\\n      * Only Buyers\\n      * Only Sellers\\n      * 52 Week High\\n      * 52 Week Low\\n      * Price Shockers\\n      * Volume Shockers\\n      * Most Active Stocks\\n    *       * GLOBAL MARKETS\\n      * US MARKETS\\n      * BIG SHARK PORTFOLIOS\\n      * STOCK SCANNER\\n      * ECONOMIC CALENDAR\\n      * MARKET ACTION\\n      * Dashboard\\n      * F&O;\\n      * FII & DII Activity\\n      * Corporate Action\\n      * EARNINGS\\n      * COMMODITY\\n    *       * PRE MARKET\\n      * RESEARCH\\n      * Advice\\n      * Broker Research\\n      * Technicals\\n      * CURRENCY\\n      * BONDS\\n      * WEBINAR\\n      * INTERVIEW SERIES\\n      * TECHNICAL TRENDS\\n    *       * IPO\\n      * OTHERS\\n      * Cryptocurrency\\n      * Tools\\n\\n  * News\\n\\n    *       * HOMEPAGE\\n      * BUSINESS\\n      * Home\\n      * Economy\\n      * Companies\\n      * Mutual Funds\\n      * Personal Finance\\n      * IPO\\n      * Startups\\n      * Real Estate\\n      * SME\\n    *       * GEOGRAPHY\\n      * India\\n      * World\\n      * MARKETS\\n      * Home\\n      * Stocks\\n      * Technical Analysis\\n      * Equity Research\\n      * Commodity\\n      * Currency\\n      * Gold Rate\\n      * Silver Rate\\n      * AQI\\n    *       * SPECIAL\\n      * Trends\\n      * Latest News\\n      * Opinion\\n      * TECHNOLOGY\\n      * Personal Tech\\n      * Auto\\n      * Fintech\\n      * MEDIA\\n      * Podcast\\n      * Photos\\n      * Infographics\\n      * Videos\\n    *       * OTHERS\\n      * MC Learn\\n      * Politics\\n      * Cricket\\n      * Entertainment\\n      * Travel\\n      * Lifestyle\\n      * Health and Fitness\\n      * Education\\n      * Science\\n      * Books\\n      * MC Buzz\\n      * MC Features\\n\\n  * Tech/Startups\\n  * Portfolio\\n  * Watchlist\\n  * Commodities\\n  * Mutual Funds\\n\\n    *       * EXPLORE\\n      * Home\\n      * Find Fund\\n      * Top Ranked Funds\\n      * Performance Tracker\\n      * SIP Performance Tracker\\n      * ETF Performance\\n      * NFO\\n      * Top Performing Categories\\n      * Learn\\n    *       * TOOLS\\n      * Returns Calculator\\n      * Lumpsum SIP Balancer\\n      * Delay Cost Calculator\\n      * SIP Return\\n    *       * MF FORUM\\n      * TRACK\\n      * Your MF Investment\\n      * MF Prices\\n      * MC 30\\n\\n  * Personal Finance\\n\\n    *       * EXPLORE\\n      * Home\\n      * Investing\\n      * Insurance\\n      * Banking\\n      * Financial Planning\\n      * Property\\n      * Tools\\n      * Video\\n      * Ask Expert\\n      * Explainer\\n      * Income Tax Filing Guide\\n      * NPS\\n    *       * FIXED DEPOSIT\\n      * Fixed Deposit Interest Calculator\\n      * Corporate Deposits\\n      * TAX\\n      * Income tax Filing Guide\\n      * Income Tax Calculator\\n      * Emergency Fund Calculator\\n      * LOANS & CREDIT CARDS\\n      * Home\\n      * Car Loan Calculator\\n      * Home Loan Calculator\\n      * Education Loan Calculator\\n      * Credit Card Debit Payoff Calculator\\n    *       * TOOLS\\n      * Provident Fund Calculator\\n      * Assets Allocation Planning\\n      * Debt Reduction Planner\\n      * Debt Evaluation Calculator\\n      * Current Expense Calculator\\n      * CREDIT SCORE₹100 Cash Reward\\n      * REAL ESTATE : TRENDS & ANALYTICS\\n      * MC 30\\n      * MONEYCONTROL - SECURENOW HEALTH INSURANCE RATINGS\\n      * GOLD PRICE TODAY\\n\\nUpcoming Chat | Previous Transcripts\\n\\nAll Schedule | Previous Transcript\\n\\n  * Forum\\n\\n    *       * EXPLORE FORUM\\n      * Homepage\\n      * Membership Rules\\n      * Forum Topics\\n      * Ask the Expert\\n      * Top Boarders\\n      * USER PROFILE\\n    *       * FORUM TOPICS\\n      * Latest Threads\\n      * Stocks\\n      * Index\\n      * Gold\\n      * Personal Finance\\n      * Just Posted\\n      * MF FORUM\\n    *       * POLLS\\n      * Latest Polls\\n      * Historical Polls\\n      * Market Sentiments\\n      * SUPPORT\\n      * FAQs\\n      * Code of Conduct\\n      * Feedback\\n      * Write to us\\n\\n  * Videos\\n\\n    *       * VIDEOS\\n      * Homepage\\n      * Videos on Demand\\n      * Markets with Santo & CJ\\n      * Morning Trade\\n      * Commodities chat with Manisha Gupta\\n      * Let`s Talk Jobs\\n      * The Tenant\\n      * Drive Report\\n      * Bajar Gupshup\\n      * Bits To Billions\\n    *       * PODCAST\\n      * Homepage\\n      * Podcast on Demand\\n      * The Week on Dalal Street\\n      * Market Minutes\\n      * MC Special Podcast\\n      * Simply Save\\n      * Policy Talks\\n    *       * LIVE TV\\n      * Hindi\\n      * Gujarati\\n\\n  * Invest Now\\n\\n### Invest in Commercial Real Estate Fractionally\\n\\nPowered By hBits - Fractional Ownership & Investment In Commercial Real Estate\\n\\n    * Own a fraction of pre-leased office space with an entry point of 25 lacs.\\n\\nStart generating passive income with up to 10% rental yield and an expected\\nIRR of 18%\\n\\nInvest Now\\n\\n### Expert Trading Guidance\\n\\nPowered By\\n\\n    * Trading Advisories, Courses & Webinars by Top Verified Experts.\\n\\nUnlock Your Trading Potential: Trade like Experts with SEBI registered\\ncreators, Learn from Courses & Webinars by India\\'s Finest Finance Experts.\\n\\nInvest Now\\n\\n  * Go Ad-Free\\n\\n  * Business\\n  * Markets\\n  * Stocks\\n  * Economy\\n  * Companies\\n  * Trends\\n  * IPO\\n  * Opinion\\n  * EV Special\\n\\nHomeNewsBusinessMarkets\\n\\n# Trade setup for Monday: 15 things to know before opening bell\\n\\n## A long build-up was seen in 110 stocks, which includes Havells India,\\nNational Aluminium Company, SAIL, Indian Energy Exchange and Aurobindo Pharma\\n\\nSunil Shankar Matkar\\n\\nMarch 03, 2024 / 06:37 PM IST\\n\\n  *   *   *   *   *   * \\n\\n## Nifty likely to face hurdle at 22,500 on higher side\\n\\nWith the Nifty surpassing the 22,400 mark for the first time on March 2, the\\nhealthy start to the March series has cheered the mood on Dalal Street.\\nExperts expect the Nifty to move towards the 22,500-22,600 zone in the coming\\nsessions.\\n\\nDuring the March 2 special session, which checked the preparedness of the\\ndisaster recovery system of the market in case of an emergency, the Sensex\\nclosed 61 points up at 73,806 and the Nifty gained 40 points at 22,378. The\\nNifty formed a small bearish candlestick on the daily charts, as the closing\\nwas lower than the opening levels.\\n\\nStory continues below Advertisement\\n\\nRemove Ad\\n\\nIn the short term, the Nifty can move towards 22,550 and a move above it can\\ntake the index to 22,700. On the lower end, support is at 22,100, and then\\n21,750-21,800, Arvinder Singh Nanda, Senior vice president at Master Capital\\nServices said.\\n\\nBoth price and momentum indicators suggest a continuation of the positive\\nprice action. On the upside, the immediate hurdle is at 22,450 – 22,500, he\\nsaid.\\n\\nShrikant Chouhan, the head of equity research at Kotak Securities, said the\\nmarket could rally to 22,500-22,575. Below 22,200, traders may want to exit\\nlong positions, he said.\\n\\n## Related stories\\n\\n  * Stockology: Risk-reward ratio favours bulls, Nifty may top 22,800 in March\\n\\n  * Daily Voice: This CIO sees more room for market upside; says PSUs have changed for better\\n\\n  * Dalal Street Week Ahead: Powell\\'s testimony, Services PMI, oil among 10 key factors in focus next we...\\n\\nIndia VIX, the fear index, fell 1.6 percent on March 2 to 14.99, giving more\\ncomfort to bulls.\\n\\n**We have collated 15 data points to help you spot profitable trades:**\\n\\nStory continues below Advertisement\\n\\nRemove Ad\\n\\n**Key support and resistance levels onNifty**\\n\\nThe pivot point calculator indicates that the Nifty is likely to take\\nimmediate support at 22,368 followed by 22,356 and 22,336. On the higher side,\\nit may face resistance at 22,383 followed by 22,421 and 22,441 levels.\\n\\n**Bank Nifty**\\n\\nOn March 2, the Bank Nifty gained 11 points to close at 47,298 amid low\\nvolumes and volatility. The index formed a small green candle on the daily\\nscale and traded above all key moving averages.\\n\\n\"As long as, the banking index trading above 50-day SMA (simple moving\\naverage) the positive texture is likely to continue. Above the same the index\\ncould move up till 47,600-47,800,\" Shrikant Chouhan said. Below 46,650, the\\nuptrend would be vulnerable.\\n\\nAs per the pivot point calculator, Bank Nifty is expected to take support at\\n47,248 followed by 47,201 and 47,126. On the higher side, the index may see\\nresistance at 47,316 followed by 47,444 and 47,520.\\n\\n**Call options data**\\n\\nAs per the weekly options data, the 23,000 strike owned the maximum Call open\\ninterest with 74.25 lakh contracts, which can act as a key resistance level\\nfor the Nifty in the short term. It was followed by the 22,800 strike, which\\nhad 58.9 lakh contracts, while the 22,500 strike had 41.17 lakh contracts.\\n\\nMeaningful Call writing was seen at the 23,000 strike, which added 11.41 lakh\\ncontracts, followed by the 22,800 strike adding 5.75 lakh contracts, and\\n22,400 strike with 5.68 lakh contracts.\\n\\nThe maximum Call unwinding was at the 22,300 strike, which shed 4.27 lakh\\ncontracts, followed by the 23,300 and 22,000 strikes, which shed 2.73 lakh and\\n1.45 lakh contracts.\\n\\n**Put option data**\\n\\nOn the Put side, the maximum open interest was at 22,000 strike, which can act\\nas a key support for the Nifty, with 73.21 lakh contracts. It was followed by\\nthe 22,200 strike comprising 67.21 lakh contracts and then the 22,100 strike\\nwith 54.38 lakh contracts.\\n\\nMeaningful Put writing was at the 21,400 strike, which added 18.99 lakh\\ncontracts, followed by the 22,400 strike and 21,700 strike, which added 13.14\\nlakh and 9.79 lakh contracts.\\n\\nPut unwinding was seen at 21,300 strike, which shed 17.47 lakh contracts,\\nfollowed by 22,100 and 21,200 strikes, which shed 5.8 lakh and 5.22 lakh\\ncontracts.\\n\\n**Stocks with high delivery percentage**\\n\\nA high delivery percentage suggests that investors are showing interest in the\\nstock. Granules India, Manappuram Finance, Samvardhana Motherson\\nInternational, Vedanta and Aditya Birla Fashion & Retail saw the highest\\ndelivery among the F&O stocks.\\n\\n**110 stocks see a long build-up**\\n\\nA long build-up was seen in 110 stocks, which included Havells India, National\\nAluminium Company, SAIL, Indian Energy Exchange and Aurobindo Pharma. An\\nincrease in open interest (OI) and price indicates a build-up of long\\npositions.\\n\\n**11 stocks see long unwinding**\\n\\nBased on the OI percentage, 11 stocks saw long unwinding. These include Titan\\nMaruti Suzuki India, Mahindra & Mahindra, M&M Financial Services, and Bajaj\\nAuto. A decline in OI and price indicates long unwinding.\\n\\n**27 stocks see a short build-up**\\n\\n  \\n\\nA short build-up was seen in 27 stocks, including Info Edge India, Can Fin\\nHomes, MRF, HDFC Asset Management Company and Zydus Lifesciences. An increase\\nin OI along with a fall in price points to a build-up of short positions.\\n\\n**31 stocks see a short covering**\\n\\nBased on the OI percentage, 31 stocks were in the short-covering list. These\\ninclude Zee Entertainment Enterprises, Tata Chemicals, TVS Motor Company, L&T\\nTechnology Services and ONGC. A decrease in OI along with a price increase is\\nan indication of short-covering.\\n\\n**PCR**\\n\\nThe Nifty Put Call ratio (PCR), which indicates the mood of the equity market,\\nclimbed to 1.32 on March 2 from 1.29 in the previous session. Above 1 PCR\\nindicates that the trading volume of Put options is more than Call options,\\nwhich generally suggest a bearish market.\\n\\n**Results Today**\\n\\nApeejay Surrendra Park Hotels will release its October-December FY24 quarter\\nearnings on March 4. This is the first earnings scorecard by the company after\\nlisting on the bourses in February.\\n\\n**Stocks in the news**\\n\\n**Swan Energy** : Subsidiary Swan LNG has pre-paid its entire loan, along with\\ninterest, of Rs 2,206 crore to its consortium of banks . The group’s external\\ndebt was Rs 4,128 crore in September and now stands at Rs 1,675 crore.\\n\\n**Info Edge India** : The internet company said its mobile applications -\\nNaukri jobseeker, Naukrigulf Job Search App and 99acres Buy/Sell/Rent Property\\n— have been reinstated on the Google Play Store.\\n\\n**MOIL:** The state-owned manganese ore mining company achieved best ever\\nFebruary production of 1.51 lakh tonnes manganese ore, up 15 percent YoY,\\nwhile sales at 1.56 lakh tonnes were 18 percent more from the year-ago month.\\n\\n**Gujarat Ambuja Exports:** The company has commissioned a 120 TPD liquid\\nglucose unit at its facility in Malda, West Bengal. With this expansion, the\\ncollective liquid glucose capacity now reached 900 TPD across five locations.\\n\\n**Patel Engineering:** The company received Letter of Acceptance (LOA) for Rs\\n525.36 crore contract with joint venture partner in Khammam City, Telangana,\\nfor RCC Protection Wall Project. Patel Engineering share in the contract is Rs\\n267.93 crore.\\n\\n**Funds Flow (Rs crore)**\\n\\n**FII and DII data**\\n\\nForeign institutional investors (FIIs) net sold shares worth Rs 81.87 crore,\\nwhile domestic institutional investors (DIIs) offloaded Rs 44.71 crore worth\\nof stocks on March 2, provisional data from the NSE showed.\\n\\n**Stock under F &O ban on NSE**\\n\\nThe NSE has retained Zee Entertainment Enterprises to the F&O ban list for\\nMarch 4.\\n\\nSecurities banned under the F&O segment include companies where derivative\\ncontracts cross 95 percent of the market-wide position limit.\\n\\n**Disclaimer:**_The views and investment tips expressed by experts on\\nMoneycontrol are their own and not those of the website or its management.\\nMoneycontrol advises users to check with certified experts before taking any\\ninvestment decisions._\\n\\n**Disclsoure:**_Moneycontrol is a part of the Network18 group. Network18 is\\ncontrolled by Independent Media Trust, of which Reliance Industries is the\\nsole beneficiary._\\n\\nSunil Shankar Matkar\\n\\nTags: #Market Cues #Market Edge #Nifty #Sensex #Trade Setup\\n\\nfirst published: Mar 3, 2024 03:32 pm\\n\\nDiscover the latest business news, Sensex, and Nifty updates. Obtain Personal\\nFinance insights, tax queries, and expert opinions on Moneycontrol or download\\nthe Moneycontrol App to stay updated!\\n\\nAdvertisement\\n\\nRemove Ad\\n\\n### Trending news\\n\\nAnant Ambani\\'s luxury watch impresses Mark Zuckerberg, Priscilla Chan: \\'I\\nmight want that\\'\\n\\n  * Bengaluru woman worked with Google for 10 years. She quit on Friday, regretted it on Monday\\n  * Mukesh Ambani has been like a father figure to me, says Radhika Merchant. Watch\\n  * Shah Rukh, Salman and Aamir Khan recreate their iconic steps at Ambani bash. Watch\\n  * Nita and Mukesh Ambani dance to ‘Pyar Hua’ at son Anant’s pre-wedding bash. Watch\\n\\nForum Facebook Twitter Instagram Linkedin RSS\\n\\n  * Portfolio\\n  * Markets\\n  * Watchlist\\n  * Live TV Show\\n  * Currencies \\n  * Credit Score₹100 Cash Reward\\n  * Commodities\\n  * Fixed Income\\n  * Personal Finance\\n  * Ram Mandir\\n\\n  * Mutual Fund\\n  * Pre-Market\\n  * IPO\\n  * Global Market\\n  * Budget 2024 \\n  * Gold Rate\\n  * BSE Sensex\\n  * Forum\\n  * MC 30 \\n\\nNews\\n\\n  * Business\\n  * Markets\\n  * Stocks\\n  * Economy\\n  * Mutual Funds\\n  * Personal Finance\\n  * IPO News\\n  * Startups\\n  * Election 2023\\n  * Elections 2023 in Hindi\\n\\nStocks: A |  B |  C |  D |  E |  F |  G |  H |  I |  J |  K |  L |  M |  N |  O |  P |  Q |  R |  S |  T |  U |  V |  W |  X |  Y |  Z | Others\\n\\nMutual Funds: A |  B |  C |  D |  E |  F |  G |  H |  I |  J |  K |  L |  M |  N |  O |  P |  Q |  R |  S |  T |  U |  V |  W |  X |  Y |  Z\\n\\nVisit the App Store to see all our apps:\\n\\nDownload from Google PlayDownload from APP StoreDownload from Windows Phone\\n\\nTools\\n\\n  * Retirement Planning\\n  * EMI Calculator\\n  * SIP Calculator\\n  * SIP Planner\\n\\nUseful Links\\n\\n  * Crypto News\\n  * Bank Holidays in India\\n  * Gold Rate Today\\n  * Silver Rate Today\\n  * Trending News\\n  * Startups\\n  * National News\\n  * MC Videos\\n  * MC You Tube\\n  * House Purchase Index\\n  * Best Portfolio Manager\\n  * Small Savings Schemes\\n  * Bonds\\n  * TopperLearning\\n  * Clear Study Doubts\\n  * Education Franchisee Opportunity\\n\\nSpecials\\n\\n  * Master Your Money\\n  * Game Changers\\n  * Investment Watch\\n  * PowerYourTrade\\n  * MoneyBhai\\n\\nFocus\\n\\n  * SME Step Up\\n\\nNetwork 18 Sites\\n\\n  * News18\\n  * Firstpost\\n  * CNBC TV18\\n  * News18 Hindi\\n  * Cricketnext\\n  * Overdrive\\n  * Topper Learning\\n\\nAbout us | Contact Us | Advertise with Us | Support | Disclaimer | Privacy Policy | Cookie Policy | Terms & Conditions | Careers | Financial Terms (Glossary) |  FAQs |  Sitemap | RSS Feed\\n\\nCopyright © e-Eighteen.com Ltd. All rights reserved. Reproduction of news\\narticles, photos, videos or any other content in whole or in part in any form\\nor medium without express writtern permission of moneycontrol.com is\\nprohibited.\\n\\n## You got 30 Day’s Trial of\\n\\nGrab it Now\\n\\n  * Ad-Free Experience\\n  * Top Articles from Financial Times\\n  * Actionable Insights\\n  * MC Research\\n  * Economic Calendar\\n  * & Many More\\n\\n######\\n\\nYou are already a Moneycontrol Pro user.\\n\\nOK\\n\\nCheck your Credit Score Now!\\n\\nAccess your Detailed Credit Report - absolutely free\\n\\nClick Here\\n\\nSunil Matkar\\n\\n',\n",
       " 'title': 'Trade setup for Monday: 15 things to know before opening bell',\n",
       " 'metadata': {'source': 'https://www.moneycontrol.com/news/business/markets/trade-setup-for-monday-15-things-to-know-before-opening-bell-18-12392891.html',\n",
       "  'title': 'Trade setup for Monday: 15 things to know before opening bell',\n",
       "  'description': 'A long build-up was seen in 110 stocks, which includes Havells India, National Aluminium Company, SAIL, Indian Energy Exchange and Aurobindo Pharma',\n",
       "  'language': 'en'},\n",
       " 'url': 'https://www.moneycontrol.com/news/business/markets/trade-setup-for-monday-15-things-to-know-before-opening-bell-18-12392891.html'}"
      ]
     },
     "execution_count": 6,
     "metadata": {},
     "output_type": "execute_result"
    }
   ],
   "source": [
    "response[0]"
   ]
  },
  {
   "cell_type": "code",
   "execution_count": 35,
   "metadata": {},
   "outputs": [],
   "source": [
    "def model():\n",
    "    \"\"\"\n",
    "    function return a chain which can generate sentiment\n",
    "    \"\"\"\n",
    "    \n",
    "    prompt_template = \"\"\"\n",
    "    Given a context and a keyword, analyze the sentiment of the context if it's related to the keyword.\n",
    "    If the context is irrelevant to the keyword, return 'Irrelevant text'.\n",
    "    If relevant, determine whether the sentiment is positive or negative.\n",
    "\n",
    "    Context: \\n {context} \\n\n",
    "    Keyword: \\n {keyword} \\n\n",
    "\n",
    "    Answer: \n",
    "\n",
    "    Note: Answer must be either \"Positive\" or \"Negetive\" or \"\"Irrelevent Text\"\n",
    "    \"\"\"\n",
    "    doc_prompt = PromptTemplate.from_template(\"{page_content}\")\n",
    "    llm_prompt = PromptTemplate.from_template(prompt_template)\n",
    "\n",
    "    print(llm_prompt)\n",
    "    llm = ChatGoogleGenerativeAI(model=\"gemini-pro\",\n",
    "                    temperature=0.7, top_p=0.85)\n",
    "    \n",
    "\n",
    "    stuff_chain = (\n",
    "        # Extract data from the documents and add to the key `text`.\n",
    "        {\n",
    "            \"context\": lambda docs: \"\\n\\n\".join(\n",
    "                format_document(doc, doc_prompt) for doc in docs\n",
    "            ),\n",
    "            \"keyword\": RunnablePassthrough()\n",
    "\n",
    "        }\n",
    "        | llm_prompt         # Prompt for Gemini\n",
    "        | llm                # Gemini function\n",
    "        | StrOutputParser()  # output parser\n",
    "    )\n",
    "\n",
    "    \n",
    "    return stuff_chain"
   ]
  },
  {
   "cell_type": "code",
   "execution_count": 18,
   "metadata": {},
   "outputs": [
    {
     "name": "stdout",
     "output_type": "stream",
     "text": [
      "File deleted successfully.\n",
      "file created successfully\n"
     ]
    },
    {
     "name": "stderr",
     "output_type": "stream",
     "text": [
      "Fetching pages: 100%|##########| 1/1 [00:00<00:00,  1.48it/s]\n",
      "Fetching pages: 100%|##########| 1/1 [00:00<00:00,  2.20it/s]\n",
      "Fetching pages: 100%|##########| 1/1 [00:00<00:00,  2.80it/s]\n",
      "Fetching pages: 100%|##########| 1/1 [00:00<00:00,  3.82it/s]\n",
      "Fetching pages: 100%|##########| 1/1 [00:00<00:00,  2.06it/s]\n"
     ]
    }
   ],
   "source": [
    "input_text = \"MRF stocks\"\n",
    "ddg_search(input_text,max_results=5)\n",
    "response = do_webscraping(json_file=\"ddgs.json\")\n"
   ]
  },
  {
   "cell_type": "code",
   "execution_count": 3,
   "metadata": {},
   "outputs": [],
   "source": [
    "url_list = [x['url'] for x in response]\n",
    "url_title = [x['title'] for x in response]"
   ]
  },
  {
   "cell_type": "code",
   "execution_count": 4,
   "metadata": {},
   "outputs": [
    {
     "data": {
      "text/plain": [
       "'https://www.moneycontrol.com/news/business/markets/trade-setup-for-monday-15-things-to-know-before-opening-bell-18-12392891.html'"
      ]
     },
     "execution_count": 4,
     "metadata": {},
     "output_type": "execute_result"
    }
   ],
   "source": [
    "url_list[0]"
   ]
  },
  {
   "cell_type": "code",
   "execution_count": 36,
   "metadata": {},
   "outputs": [
    {
     "name": "stdout",
     "output_type": "stream",
     "text": [
      "input_variables=['context', 'keyword'] template='\\n    Given a context and a keyword, analyze the sentiment of the context if it\\'s related to the keyword.\\n    If the context is irrelevant to the keyword, return \\'Irrelevant text\\'.\\n    If relevant, determine whether the sentiment is positive or negative.\\n\\n    Context: \\n {context} \\n\\n    Keyword: \\n {keyword} \\n\\n\\n    Answer: \\n\\n    Note: Answer must be either \"Positive\" or \"Negetive\" or \"\"Irrelevent Text\"\\n    '\n"
     ]
    },
    {
     "data": {
      "text/plain": [
       "'Irrelevant text'"
      ]
     },
     "execution_count": 36,
     "metadata": {},
     "output_type": "execute_result"
    }
   ],
   "source": [
    "loader = WebBaseLoader(url_list[0])\n",
    "docs = loader.load()\n",
    "res = model()\n",
    "res.invoke(docs)"
   ]
  },
  {
   "cell_type": "code",
   "execution_count": 5,
   "metadata": {},
   "outputs": [
    {
     "name": "stderr",
     "output_type": "stream",
     "text": [
      "c:\\Users\\Omkar\\Anaconda3\\envs\\sentenv\\lib\\site-packages\\tqdm\\auto.py:21: TqdmWarning: IProgress not found. Please update jupyter and ipywidgets. See https://ipywidgets.readthedocs.io/en/stable/user_install.html\n",
      "  from .autonotebook import tqdm as notebook_tqdm\n"
     ]
    }
   ],
   "source": [
    "from sentiment_analysis_stock_links.component.model import SentimentAnalyzer"
   ]
  },
  {
   "cell_type": "code",
   "execution_count": 6,
   "metadata": {},
   "outputs": [
    {
     "name": "stdout",
     "output_type": "stream",
     "text": [
      "input_variables=['context', 'keyword'] template='\\n        Given a context and a keyword, analyze the sentiment of the context if it\\'s related to the keyword.\\n        If the context is irrelevant to the keyword, return \\'Irrelevant text\\'.\\n        If relevant, determine whether the sentiment is positive or negative.\\n\\n        Context: \\n {context} \\n\\n        Keyword: \\n {keyword} \\n\\n\\n        Answer: \\n\\n        Note: Answer must be either \"Positive\" or \"Negetive\" or \"\"Irrelevent Text\"\\n        '\n"
     ]
    }
   ],
   "source": [
    "model = SentimentAnalyzer.analyze_sentiment()"
   ]
  },
  {
   "cell_type": "code",
   "execution_count": 8,
   "metadata": {},
   "outputs": [
    {
     "ename": "NameError",
     "evalue": "name 'res' is not defined",
     "output_type": "error",
     "traceback": [
      "\u001b[1;31m---------------------------------------------------------------------------\u001b[0m",
      "\u001b[1;31mNameError\u001b[0m                                 Traceback (most recent call last)",
      "Cell \u001b[1;32mIn[8], line 5\u001b[0m\n\u001b[0;32m      3\u001b[0m loader \u001b[38;5;241m=\u001b[39m WebBaseLoader(url_list[\u001b[38;5;241m0\u001b[39m])\n\u001b[0;32m      4\u001b[0m docs \u001b[38;5;241m=\u001b[39m loader\u001b[38;5;241m.\u001b[39mload()\n\u001b[1;32m----> 5\u001b[0m \u001b[43mres\u001b[49m\u001b[38;5;241m.\u001b[39minvoke(docs)\n",
      "\u001b[1;31mNameError\u001b[0m: name 'res' is not defined"
     ]
    }
   ],
   "source": [
    "from langchain.document_loaders import WebBaseLoader\n",
    "\n",
    "loader = WebBaseLoader(url_list[0])\n",
    "docs = loader.load()\n",
    "model.invoke(docs)"
   ]
  },
  {
   "cell_type": "code",
   "execution_count": null,
   "metadata": {},
   "outputs": [],
   "source": []
  },
  {
   "cell_type": "code",
   "execution_count": 25,
   "metadata": {},
   "outputs": [
    {
     "ename": "InvalidSchema",
     "evalue": "No connection adapters were found for 'Trade setup for Monday: 15 things to know before opening bell'",
     "output_type": "error",
     "traceback": [
      "\u001b[1;31m---------------------------------------------------------------------------\u001b[0m",
      "\u001b[1;31mInvalidSchema\u001b[0m                             Traceback (most recent call last)",
      "Cell \u001b[1;32mIn[25], line 5\u001b[0m\n\u001b[0;32m      3\u001b[0m result_list \u001b[38;5;241m=\u001b[39m []\n\u001b[0;32m      4\u001b[0m \u001b[38;5;28;01mfor\u001b[39;00m url \u001b[38;5;129;01min\u001b[39;00m url_list:\n\u001b[1;32m----> 5\u001b[0m     result \u001b[38;5;241m=\u001b[39m \u001b[43mmodel\u001b[49m\u001b[38;5;241;43m.\u001b[39;49m\u001b[43manalyze_sentiment\u001b[49m\u001b[43m(\u001b[49m\u001b[43murl_title\u001b[49m\u001b[43m)\u001b[49m\n\u001b[0;32m      6\u001b[0m     result_list\u001b[38;5;241m.\u001b[39mappend(result)\n",
      "File \u001b[1;32mc:\\users\\omkar\\onedrive\\desktop\\omkar\\projects\\langchain projects\\sentiment-analysis-stock-links\\src\\sentiment_analysis_stock_links\\component\\model.py:51\u001b[0m, in \u001b[0;36mSentimentAnalyzer.analyze_sentiment\u001b[1;34m(self, url)\u001b[0m\n\u001b[0;32m     38\u001b[0m stuff_chain \u001b[38;5;241m=\u001b[39m (\n\u001b[0;32m     39\u001b[0m     {\n\u001b[0;32m     40\u001b[0m         \u001b[38;5;124m\"\u001b[39m\u001b[38;5;124mcontext\u001b[39m\u001b[38;5;124m\"\u001b[39m: \u001b[38;5;28;01mlambda\u001b[39;00m docs: \u001b[38;5;124m\"\u001b[39m\u001b[38;5;130;01m\\n\u001b[39;00m\u001b[38;5;130;01m\\n\u001b[39;00m\u001b[38;5;124m\"\u001b[39m\u001b[38;5;241m.\u001b[39mjoin(\n\u001b[1;32m   (...)\u001b[0m\n\u001b[0;32m     47\u001b[0m     \u001b[38;5;241m|\u001b[39m StrOutputParser()  \u001b[38;5;66;03m# output parser\u001b[39;00m\n\u001b[0;32m     48\u001b[0m )\n\u001b[0;32m     50\u001b[0m loader \u001b[38;5;241m=\u001b[39m WebBaseLoader(url)\n\u001b[1;32m---> 51\u001b[0m docs \u001b[38;5;241m=\u001b[39m \u001b[43mloader\u001b[49m\u001b[38;5;241;43m.\u001b[39;49m\u001b[43mload\u001b[49m\u001b[43m(\u001b[49m\u001b[43m)\u001b[49m\n\u001b[0;32m     53\u001b[0m \u001b[38;5;28;01mreturn\u001b[39;00m stuff_chain\u001b[38;5;241m.\u001b[39minvoke(docs)\n",
      "File \u001b[1;32mc:\\Users\\Omkar\\Anaconda3\\envs\\sentenv\\lib\\site-packages\\langchain_community\\document_loaders\\base.py:29\u001b[0m, in \u001b[0;36mBaseLoader.load\u001b[1;34m(self)\u001b[0m\n\u001b[0;32m     27\u001b[0m \u001b[38;5;28;01mdef\u001b[39;00m \u001b[38;5;21mload\u001b[39m(\u001b[38;5;28mself\u001b[39m) \u001b[38;5;241m-\u001b[39m\u001b[38;5;241m>\u001b[39m List[Document]:\n\u001b[0;32m     28\u001b[0m \u001b[38;5;250m    \u001b[39m\u001b[38;5;124;03m\"\"\"Load data into Document objects.\"\"\"\u001b[39;00m\n\u001b[1;32m---> 29\u001b[0m     \u001b[38;5;28;01mreturn\u001b[39;00m \u001b[38;5;28;43mlist\u001b[39;49m\u001b[43m(\u001b[49m\u001b[38;5;28;43mself\u001b[39;49m\u001b[38;5;241;43m.\u001b[39;49m\u001b[43mlazy_load\u001b[49m\u001b[43m(\u001b[49m\u001b[43m)\u001b[49m\u001b[43m)\u001b[49m\n",
      "File \u001b[1;32mc:\\Users\\Omkar\\Anaconda3\\envs\\sentenv\\lib\\site-packages\\langchain_community\\document_loaders\\web_base.py:249\u001b[0m, in \u001b[0;36mWebBaseLoader.lazy_load\u001b[1;34m(self)\u001b[0m\n\u001b[0;32m    247\u001b[0m \u001b[38;5;250m\u001b[39m\u001b[38;5;124;03m\"\"\"Lazy load text from the url(s) in web_path.\"\"\"\u001b[39;00m\n\u001b[0;32m    248\u001b[0m \u001b[38;5;28;01mfor\u001b[39;00m path \u001b[38;5;129;01min\u001b[39;00m \u001b[38;5;28mself\u001b[39m\u001b[38;5;241m.\u001b[39mweb_paths:\n\u001b[1;32m--> 249\u001b[0m     soup \u001b[38;5;241m=\u001b[39m \u001b[38;5;28;43mself\u001b[39;49m\u001b[38;5;241;43m.\u001b[39;49m\u001b[43m_scrape\u001b[49m\u001b[43m(\u001b[49m\u001b[43mpath\u001b[49m\u001b[43m,\u001b[49m\u001b[43m \u001b[49m\u001b[43mbs_kwargs\u001b[49m\u001b[38;5;241;43m=\u001b[39;49m\u001b[38;5;28;43mself\u001b[39;49m\u001b[38;5;241;43m.\u001b[39;49m\u001b[43mbs_kwargs\u001b[49m\u001b[43m)\u001b[49m\n\u001b[0;32m    250\u001b[0m     text \u001b[38;5;241m=\u001b[39m soup\u001b[38;5;241m.\u001b[39mget_text(\u001b[38;5;241m*\u001b[39m\u001b[38;5;241m*\u001b[39m\u001b[38;5;28mself\u001b[39m\u001b[38;5;241m.\u001b[39mbs_get_text_kwargs)\n\u001b[0;32m    251\u001b[0m     metadata \u001b[38;5;241m=\u001b[39m _build_metadata(soup, path)\n",
      "File \u001b[1;32mc:\\Users\\Omkar\\Anaconda3\\envs\\sentenv\\lib\\site-packages\\langchain_community\\document_loaders\\web_base.py:228\u001b[0m, in \u001b[0;36mWebBaseLoader._scrape\u001b[1;34m(self, url, parser, bs_kwargs)\u001b[0m\n\u001b[0;32m    224\u001b[0m         parser \u001b[38;5;241m=\u001b[39m \u001b[38;5;28mself\u001b[39m\u001b[38;5;241m.\u001b[39mdefault_parser\n\u001b[0;32m    226\u001b[0m \u001b[38;5;28mself\u001b[39m\u001b[38;5;241m.\u001b[39m_check_parser(parser)\n\u001b[1;32m--> 228\u001b[0m html_doc \u001b[38;5;241m=\u001b[39m \u001b[38;5;28mself\u001b[39m\u001b[38;5;241m.\u001b[39msession\u001b[38;5;241m.\u001b[39mget(url, \u001b[38;5;241m*\u001b[39m\u001b[38;5;241m*\u001b[39m\u001b[38;5;28mself\u001b[39m\u001b[38;5;241m.\u001b[39mrequests_kwargs)\n\u001b[0;32m    229\u001b[0m \u001b[38;5;28;01mif\u001b[39;00m \u001b[38;5;28mself\u001b[39m\u001b[38;5;241m.\u001b[39mraise_for_status:\n\u001b[0;32m    230\u001b[0m     html_doc\u001b[38;5;241m.\u001b[39mraise_for_status()\n",
      "File \u001b[1;32mc:\\Users\\Omkar\\Anaconda3\\envs\\sentenv\\lib\\site-packages\\requests\\sessions.py:602\u001b[0m, in \u001b[0;36mSession.get\u001b[1;34m(self, url, **kwargs)\u001b[0m\n\u001b[0;32m    594\u001b[0m \u001b[38;5;250m\u001b[39m\u001b[38;5;124mr\u001b[39m\u001b[38;5;124;03m\"\"\"Sends a GET request. Returns :class:`Response` object.\u001b[39;00m\n\u001b[0;32m    595\u001b[0m \n\u001b[0;32m    596\u001b[0m \u001b[38;5;124;03m:param url: URL for the new :class:`Request` object.\u001b[39;00m\n\u001b[0;32m    597\u001b[0m \u001b[38;5;124;03m:param \\*\\*kwargs: Optional arguments that ``request`` takes.\u001b[39;00m\n\u001b[0;32m    598\u001b[0m \u001b[38;5;124;03m:rtype: requests.Response\u001b[39;00m\n\u001b[0;32m    599\u001b[0m \u001b[38;5;124;03m\"\"\"\u001b[39;00m\n\u001b[0;32m    601\u001b[0m kwargs\u001b[38;5;241m.\u001b[39msetdefault(\u001b[38;5;124m\"\u001b[39m\u001b[38;5;124mallow_redirects\u001b[39m\u001b[38;5;124m\"\u001b[39m, \u001b[38;5;28;01mTrue\u001b[39;00m)\n\u001b[1;32m--> 602\u001b[0m \u001b[38;5;28;01mreturn\u001b[39;00m \u001b[38;5;28mself\u001b[39m\u001b[38;5;241m.\u001b[39mrequest(\u001b[38;5;124m\"\u001b[39m\u001b[38;5;124mGET\u001b[39m\u001b[38;5;124m\"\u001b[39m, url, \u001b[38;5;241m*\u001b[39m\u001b[38;5;241m*\u001b[39mkwargs)\n",
      "File \u001b[1;32mc:\\Users\\Omkar\\Anaconda3\\envs\\sentenv\\lib\\site-packages\\requests\\sessions.py:589\u001b[0m, in \u001b[0;36mSession.request\u001b[1;34m(self, method, url, params, data, headers, cookies, files, auth, timeout, allow_redirects, proxies, hooks, stream, verify, cert, json)\u001b[0m\n\u001b[0;32m    584\u001b[0m send_kwargs \u001b[38;5;241m=\u001b[39m {\n\u001b[0;32m    585\u001b[0m     \u001b[38;5;124m\"\u001b[39m\u001b[38;5;124mtimeout\u001b[39m\u001b[38;5;124m\"\u001b[39m: timeout,\n\u001b[0;32m    586\u001b[0m     \u001b[38;5;124m\"\u001b[39m\u001b[38;5;124mallow_redirects\u001b[39m\u001b[38;5;124m\"\u001b[39m: allow_redirects,\n\u001b[0;32m    587\u001b[0m }\n\u001b[0;32m    588\u001b[0m send_kwargs\u001b[38;5;241m.\u001b[39mupdate(settings)\n\u001b[1;32m--> 589\u001b[0m resp \u001b[38;5;241m=\u001b[39m \u001b[38;5;28mself\u001b[39m\u001b[38;5;241m.\u001b[39msend(prep, \u001b[38;5;241m*\u001b[39m\u001b[38;5;241m*\u001b[39msend_kwargs)\n\u001b[0;32m    591\u001b[0m \u001b[38;5;28;01mreturn\u001b[39;00m resp\n",
      "File \u001b[1;32mc:\\Users\\Omkar\\Anaconda3\\envs\\sentenv\\lib\\site-packages\\requests\\sessions.py:697\u001b[0m, in \u001b[0;36mSession.send\u001b[1;34m(self, request, **kwargs)\u001b[0m\n\u001b[0;32m    694\u001b[0m hooks \u001b[38;5;241m=\u001b[39m request\u001b[38;5;241m.\u001b[39mhooks\n\u001b[0;32m    696\u001b[0m \u001b[38;5;66;03m# Get the appropriate adapter to use\u001b[39;00m\n\u001b[1;32m--> 697\u001b[0m adapter \u001b[38;5;241m=\u001b[39m \u001b[38;5;28;43mself\u001b[39;49m\u001b[38;5;241;43m.\u001b[39;49m\u001b[43mget_adapter\u001b[49m\u001b[43m(\u001b[49m\u001b[43murl\u001b[49m\u001b[38;5;241;43m=\u001b[39;49m\u001b[43mrequest\u001b[49m\u001b[38;5;241;43m.\u001b[39;49m\u001b[43murl\u001b[49m\u001b[43m)\u001b[49m\n\u001b[0;32m    699\u001b[0m \u001b[38;5;66;03m# Start time (approximately) of the request\u001b[39;00m\n\u001b[0;32m    700\u001b[0m start \u001b[38;5;241m=\u001b[39m preferred_clock()\n",
      "File \u001b[1;32mc:\\Users\\Omkar\\Anaconda3\\envs\\sentenv\\lib\\site-packages\\requests\\sessions.py:794\u001b[0m, in \u001b[0;36mSession.get_adapter\u001b[1;34m(self, url)\u001b[0m\n\u001b[0;32m    791\u001b[0m         \u001b[38;5;28;01mreturn\u001b[39;00m adapter\n\u001b[0;32m    793\u001b[0m \u001b[38;5;66;03m# Nothing matches :-/\u001b[39;00m\n\u001b[1;32m--> 794\u001b[0m \u001b[38;5;28;01mraise\u001b[39;00m InvalidSchema(\u001b[38;5;124mf\u001b[39m\u001b[38;5;124m\"\u001b[39m\u001b[38;5;124mNo connection adapters were found for \u001b[39m\u001b[38;5;132;01m{\u001b[39;00murl\u001b[38;5;132;01m!r}\u001b[39;00m\u001b[38;5;124m\"\u001b[39m)\n",
      "\u001b[1;31mInvalidSchema\u001b[0m: No connection adapters were found for 'Trade setup for Monday: 15 things to know before opening bell'"
     ]
    }
   ],
   "source": [
    "model = SentimentAnalyzer()\n",
    "\n",
    "result_list = []\n",
    "for url in url_list:\n",
    "    result = model.analyze_sentiment(url_title)\n",
    "    result_list.append(result)"
   ]
  },
  {
   "cell_type": "code",
   "execution_count": null,
   "metadata": {},
   "outputs": [],
   "source": []
  }
 ],
 "metadata": {
  "kernelspec": {
   "display_name": "sentenv",
   "language": "python",
   "name": "python3"
  },
  "language_info": {
   "codemirror_mode": {
    "name": "ipython",
    "version": 3
   },
   "file_extension": ".py",
   "mimetype": "text/x-python",
   "name": "python",
   "nbconvert_exporter": "python",
   "pygments_lexer": "ipython3",
   "version": "3.9.0"
  }
 },
 "nbformat": 4,
 "nbformat_minor": 2
}
